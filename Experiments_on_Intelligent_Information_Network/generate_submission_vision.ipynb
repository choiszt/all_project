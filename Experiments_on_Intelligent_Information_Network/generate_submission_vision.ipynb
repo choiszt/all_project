{
 "cells": [
  {
   "cell_type": "code",
   "execution_count": null,
   "id": "4a28e96c",
   "metadata": {
    "papermill": {
     "duration": 0.012285,
     "end_time": "2023-05-12T12:12:02.583280",
     "exception": false,
     "start_time": "2023-05-12T12:12:02.570995",
     "status": "completed"
    },
    "tags": []
   },
   "outputs": [],
   "source": []
  },
  {
   "cell_type": "code",
   "execution_count": 1,
   "id": "aaa10492",
   "metadata": {
    "execution": {
     "iopub.execute_input": "2023-05-12T12:12:02.629267Z",
     "iopub.status.busy": "2023-05-12T12:12:02.627906Z",
     "iopub.status.idle": "2023-05-12T12:12:22.152285Z",
     "shell.execute_reply": "2023-05-12T12:12:22.150770Z"
    },
    "papermill": {
     "duration": 19.540604,
     "end_time": "2023-05-12T12:12:22.155974",
     "exception": false,
     "start_time": "2023-05-12T12:12:02.615370",
     "status": "completed"
    },
    "tags": []
   },
   "outputs": [],
   "source": [
    "# 导入需要的包\n",
    "import numpy as np\n",
    "import pandas as pd\n",
    "import matplotlib.pyplot as plt\n",
    "import torch\n",
    "import os\n",
    "import pytorch_lightning as pl\n",
    "from torch.utils.data import Dataset, DataLoader\n",
    "from sklearn import model_selection\n",
    "import torchvision.transforms as transforms\n",
    "import torchvision.io \n",
    "import librosa\n",
    "from PIL import Image\n",
    "import albumentations as alb\n",
    "import torch.multiprocessing as mp\n",
    "import warnings\n",
    "\n",
    "warnings.filterwarnings('ignore')\n",
    "from pytorch_lightning.callbacks import ModelCheckpoint, BackboneFinetuning, EarlyStopping\n",
    "import torch.nn as nn\n",
    "from torch.nn.functional import cross_entropy\n",
    "import torchmetrics\n",
    "import timm\n",
    "from pathlib import Path\n"
   ]
  },
  {
   "cell_type": "code",
   "execution_count": 2,
   "id": "481a58c0",
   "metadata": {
    "execution": {
     "iopub.execute_input": "2023-05-12T12:12:22.180822Z",
     "iopub.status.busy": "2023-05-12T12:12:22.179552Z",
     "iopub.status.idle": "2023-05-12T12:12:22.190299Z",
     "shell.execute_reply": "2023-05-12T12:12:22.189142Z"
    },
    "papermill": {
     "duration": 0.026126,
     "end_time": "2023-05-12T12:12:22.192951",
     "exception": false,
     "start_time": "2023-05-12T12:12:22.166825",
     "status": "completed"
    },
    "tags": []
   },
   "outputs": [],
   "source": [
    "class Config:\n",
    "    num_classes = 264  # 鸟叫种类\n",
    "    batch_size = 12  \n",
    "    PRECISION = 16  # 数据精度 \n",
    "    seed = 2023\n",
    "    model = \"tf_efficientnet_b1_ns\"\n",
    "    pretrained = False\n",
    "    use_mixup = False\n",
    "    mixup_alpha = 0.2   \n",
    "    DEVICE = torch.device('cuda' if torch.cuda.is_available() else 'cpu')    \n",
    "\n",
    "    data_root = \"/kaggle/input/birdclef-2023/\"\n",
    "    train_images = \"/kaggle/input/split-creating-melspecs-stage-1/specs/train/\"\n",
    "    valid_images = \"/kaggle/input/split-creating-melspecs-stage-1/specs/valid/\"\n",
    "    train_path = \"/kaggle/input/bc2023-train-val-df/train.csv\"\n",
    "    valid_path = \"/kaggle/input/bc2023-train-val-df/valid.csv\"\n",
    "    \n",
    "    test_path = '/kaggle/input/birdclef-2023/test_soundscapes/'\n",
    "    SR = 32000  # 采样参数\n",
    "    DURATION = 5\n",
    "    LR = 5e-4\n",
    "    \n",
    "    model_ckpt = '/kaggle/input/exp2-b1-maxs7/exp1/last.ckpt'  # 在数据上预训练的checkpoint\n",
    "#     model_ckpt = '/kaggle/input/birdclef-balance/last_balance.ckpt'"
   ]
  },
  {
   "cell_type": "code",
   "execution_count": 3,
   "id": "c42514d8",
   "metadata": {
    "execution": {
     "iopub.execute_input": "2023-05-12T12:12:22.217422Z",
     "iopub.status.busy": "2023-05-12T12:12:22.216578Z",
     "iopub.status.idle": "2023-05-12T12:12:22.231336Z",
     "shell.execute_reply": "2023-05-12T12:12:22.229812Z"
    },
    "papermill": {
     "duration": 0.030848,
     "end_time": "2023-05-12T12:12:22.234634",
     "exception": false,
     "start_time": "2023-05-12T12:12:22.203786",
     "status": "completed"
    },
    "tags": []
   },
   "outputs": [
    {
     "data": {
      "text/plain": [
       "2023"
      ]
     },
     "execution_count": 3,
     "metadata": {},
     "output_type": "execute_result"
    }
   ],
   "source": [
    "pl.seed_everything(Config.seed, workers=True)"
   ]
  },
  {
   "cell_type": "code",
   "execution_count": 4,
   "id": "880c54a0",
   "metadata": {
    "execution": {
     "iopub.execute_input": "2023-05-12T12:12:22.258885Z",
     "iopub.status.busy": "2023-05-12T12:12:22.258417Z",
     "iopub.status.idle": "2023-05-12T12:12:22.265551Z",
     "shell.execute_reply": "2023-05-12T12:12:22.263989Z"
    },
    "papermill": {
     "duration": 0.022619,
     "end_time": "2023-05-12T12:12:22.268295",
     "exception": false,
     "start_time": "2023-05-12T12:12:22.245676",
     "status": "completed"
    },
    "tags": []
   },
   "outputs": [],
   "source": [
    "def config_to_dict(cfg):\n",
    "    return dict((name, getattr(cfg, name)) for name in dir(cfg) if not name.startswith('__'))"
   ]
  },
  {
   "cell_type": "code",
   "execution_count": 5,
   "id": "727effb3",
   "metadata": {
    "execution": {
     "iopub.execute_input": "2023-05-12T12:12:22.292113Z",
     "iopub.status.busy": "2023-05-12T12:12:22.291561Z",
     "iopub.status.idle": "2023-05-12T12:12:22.308073Z",
     "shell.execute_reply": "2023-05-12T12:12:22.307012Z"
    },
    "papermill": {
     "duration": 0.031681,
     "end_time": "2023-05-12T12:12:22.310591",
     "exception": false,
     "start_time": "2023-05-12T12:12:22.278910",
     "status": "completed"
    },
    "tags": []
   },
   "outputs": [],
   "source": [
    "def compute_melspec(y, sr, n_mels, fmin, fmax):  # 把数据转化成梅尔谱\n",
    "    \"\"\"\n",
    "    Computes a mel-spectrogram and puts it at decibel scale\n",
    "    Arguments:\n",
    "        y {np array} -- signal\n",
    "        params {AudioParams} -- Parameters to use for the spectrogram. Expected to have the attributes sr, n_mels, f_min, f_max\n",
    "    Returns:\n",
    "        np array -- Mel-spectrogram\n",
    "    \"\"\"\n",
    "    melspec = lb.feature.melspectrogram(\n",
    "        y=y, sr=sr, n_mels=n_mels, fmin=fmin, fmax=fmax,\n",
    "    )\n",
    "\n",
    "    melspec = lb.power_to_db(melspec).astype(np.float32)\n",
    "    return melspec\n",
    "\n",
    "def mono_to_color(X, eps=1e-6, mean=None, std=None):  # 把音频梅尔谱转化成视觉图像\n",
    "    mean = mean or X.mean()\n",
    "    std = std or X.std()\n",
    "    X = (X - mean) / (std + eps)\n",
    "    \n",
    "    _min, _max = X.min(), X.max()\n",
    "\n",
    "    if (_max - _min) > eps:\n",
    "        V = np.clip(X, _min, _max)\n",
    "        V = 255 * (V - _min) / (_max - _min)\n",
    "        V = V.astype(np.uint8)\n",
    "    else:\n",
    "        V = np.zeros_like(X, dtype=np.uint8)\n",
    "\n",
    "    return V\n",
    "\n",
    "def crop_or_pad(y, length, is_train=True, start=None):  # 对齐音频长度\n",
    "    if len(y) < length:\n",
    "        y = np.concatenate([y, np.zeros(length - len(y))])\n",
    "        \n",
    "        n_repeats = length // len(y)\n",
    "        epsilon = length % len(y)\n",
    "        \n",
    "        y = np.concatenate([y]*n_repeats + [y[:epsilon]])\n",
    "        \n",
    "    elif len(y) > length:\n",
    "        if not is_train:\n",
    "            start = start or 0\n",
    "        else:\n",
    "            start = start or np.random.randint(len(y) - length)\n",
    "\n",
    "        y = y[start:start + length]\n",
    "\n",
    "    return y\n"
   ]
  },
  {
   "cell_type": "code",
   "execution_count": 6,
   "id": "452b4aa8",
   "metadata": {
    "execution": {
     "iopub.execute_input": "2023-05-12T12:12:22.337058Z",
     "iopub.status.busy": "2023-05-12T12:12:22.335654Z",
     "iopub.status.idle": "2023-05-12T12:12:22.539942Z",
     "shell.execute_reply": "2023-05-12T12:12:22.538560Z"
    },
    "papermill": {
     "duration": 0.221682,
     "end_time": "2023-05-12T12:12:22.543416",
     "exception": false,
     "start_time": "2023-05-12T12:12:22.321734",
     "status": "completed"
    },
    "tags": []
   },
   "outputs": [],
   "source": [
    "df_train = pd.read_csv(Config.train_path)\n",
    "Config.num_classes = len(df_train.primary_label.unique())"
   ]
  },
  {
   "cell_type": "code",
   "execution_count": 7,
   "id": "22eb3293",
   "metadata": {
    "execution": {
     "iopub.execute_input": "2023-05-12T12:12:22.568098Z",
     "iopub.status.busy": "2023-05-12T12:12:22.567618Z",
     "iopub.status.idle": "2023-05-12T12:12:22.607847Z",
     "shell.execute_reply": "2023-05-12T12:12:22.606549Z"
    },
    "papermill": {
     "duration": 0.055868,
     "end_time": "2023-05-12T12:12:22.610592",
     "exception": false,
     "start_time": "2023-05-12T12:12:22.554724",
     "status": "completed"
    },
    "tags": []
   },
   "outputs": [
    {
     "name": "stdout",
     "output_type": "stream",
     "text": [
      "(1, 4)\n"
     ]
    },
    {
     "data": {
      "text/html": [
       "<div>\n",
       "<style scoped>\n",
       "    .dataframe tbody tr th:only-of-type {\n",
       "        vertical-align: middle;\n",
       "    }\n",
       "\n",
       "    .dataframe tbody tr th {\n",
       "        vertical-align: top;\n",
       "    }\n",
       "\n",
       "    .dataframe thead th {\n",
       "        text-align: right;\n",
       "    }\n",
       "</style>\n",
       "<table border=\"1\" class=\"dataframe\">\n",
       "  <thead>\n",
       "    <tr style=\"text-align: right;\">\n",
       "      <th></th>\n",
       "      <th>filename</th>\n",
       "      <th>name</th>\n",
       "      <th>id</th>\n",
       "      <th>path</th>\n",
       "    </tr>\n",
       "  </thead>\n",
       "  <tbody>\n",
       "    <tr>\n",
       "      <th>0</th>\n",
       "      <td>soundscape_29201</td>\n",
       "      <td>soundscape</td>\n",
       "      <td>29201</td>\n",
       "      <td>/kaggle/input/birdclef-2023/test_soundscapes/s...</td>\n",
       "    </tr>\n",
       "  </tbody>\n",
       "</table>\n",
       "</div>"
      ],
      "text/plain": [
       "           filename        name     id  \\\n",
       "0  soundscape_29201  soundscape  29201   \n",
       "\n",
       "                                                path  \n",
       "0  /kaggle/input/birdclef-2023/test_soundscapes/s...  "
      ]
     },
     "execution_count": 7,
     "metadata": {},
     "output_type": "execute_result"
    }
   ],
   "source": [
    "df_test = pd.DataFrame(\n",
    "     [(path.stem, *path.stem.split(\"_\"), path) for path in Path(Config.test_path).glob(\"*.ogg\")],\n",
    "    columns = [\"filename\", \"name\" ,\"id\", \"path\"]\n",
    ")\n",
    "print(df_test.shape)\n",
    "df_test.head()"
   ]
  },
  {
   "cell_type": "code",
   "execution_count": 8,
   "id": "560be9f4",
   "metadata": {
    "execution": {
     "iopub.execute_input": "2023-05-12T12:12:22.635885Z",
     "iopub.status.busy": "2023-05-12T12:12:22.635467Z",
     "iopub.status.idle": "2023-05-12T12:12:22.640648Z",
     "shell.execute_reply": "2023-05-12T12:12:22.639350Z"
    },
    "papermill": {
     "duration": 0.021089,
     "end_time": "2023-05-12T12:12:22.643442",
     "exception": false,
     "start_time": "2023-05-12T12:12:22.622353",
     "status": "completed"
    },
    "tags": []
   },
   "outputs": [],
   "source": [
    "# df_test = pd.concat([df_test,df_test,df_test]).reset_index(drop=True)"
   ]
  },
  {
   "attachments": {},
   "cell_type": "markdown",
   "id": "bfa24102",
   "metadata": {
    "papermill": {
     "duration": 0.011355,
     "end_time": "2023-05-12T12:12:22.666302",
     "exception": false,
     "start_time": "2023-05-12T12:12:22.654947",
     "status": "completed"
    },
    "tags": []
   },
   "source": []
  },
  {
   "cell_type": "code",
   "execution_count": 9,
   "id": "fc9ad4e8",
   "metadata": {
    "execution": {
     "iopub.execute_input": "2023-05-12T12:12:22.691631Z",
     "iopub.status.busy": "2023-05-12T12:12:22.691167Z",
     "iopub.status.idle": "2023-05-12T12:12:22.698837Z",
     "shell.execute_reply": "2023-05-12T12:12:22.697541Z"
    },
    "papermill": {
     "duration": 0.023529,
     "end_time": "2023-05-12T12:12:22.701599",
     "exception": false,
     "start_time": "2023-05-12T12:12:22.678070",
     "status": "completed"
    },
    "tags": []
   },
   "outputs": [],
   "source": [
    "import albumentations as A\n",
    "def get_train_transform():  # 对音频进行变换\n",
    "    return A.Compose([\n",
    "        A.HorizontalFlip(p=0.5),\n",
    "        A.OneOf([\n",
    "                A.Cutout(max_h_size=5, max_w_size=16),\n",
    "                A.CoarseDropout(max_holes=4),\n",
    "            ], p=0.5),\n",
    "    ])"
   ]
  },
  {
   "cell_type": "code",
   "execution_count": 10,
   "id": "b5131a95",
   "metadata": {
    "execution": {
     "iopub.execute_input": "2023-05-12T12:12:22.727133Z",
     "iopub.status.busy": "2023-05-12T12:12:22.726657Z",
     "iopub.status.idle": "2023-05-12T12:12:22.816277Z",
     "shell.execute_reply": "2023-05-12T12:12:22.814169Z"
    },
    "papermill": {
     "duration": 0.107187,
     "end_time": "2023-05-12T12:12:22.820378",
     "exception": false,
     "start_time": "2023-05-12T12:12:22.713191",
     "status": "completed"
    },
    "tags": []
   },
   "outputs": [],
   "source": [
    "import librosa as lb\n",
    "import librosa.display as lbd\n",
    "import soundfile as sf\n",
    "from  soundfile import SoundFile \n",
    "\n",
    "class BirdDataset(Dataset):\n",
    "    def __init__(self, data, sr=Config.SR, n_mels=128, fmin=0, fmax=None, duration=Config.DURATION, step=None, res_type=\"kaiser_fast\", resample=True):\n",
    "        \n",
    "        self.data = data\n",
    "        \n",
    "        self.sr = sr\n",
    "        self.n_mels = n_mels\n",
    "        self.fmin = fmin\n",
    "        self.fmax = fmax or self.sr//2\n",
    "\n",
    "        self.duration = duration\n",
    "        self.audio_length = self.duration*self.sr\n",
    "        self.step = step or self.audio_length\n",
    "        \n",
    "        self.res_type = res_type\n",
    "        self.resample = resample\n",
    "\n",
    "    def __len__(self):\n",
    "        return len(self.data)\n",
    "    \n",
    "    @staticmethod\n",
    "    def normalize(image):  # 图像的归一化函数\n",
    "        image = image.astype(\"float32\", copy=False) / 255.0\n",
    "        image = np.stack([image, image, image])\n",
    "        return image\n",
    "    \n",
    "    \n",
    "    def audio_to_image(self, audio):  # 音频转成图像\n",
    "        melspec = compute_melspec(audio, self.sr, self.n_mels, self.fmin, self.fmax) \n",
    "        image = mono_to_color(melspec)\n",
    "        image = self.normalize(image)\n",
    "        return image\n",
    "\n",
    "    def read_file(self, filepath):  \n",
    "        audio, orig_sr = sf.read(filepath, dtype=\"float32\")\n",
    "\n",
    "        if self.resample and orig_sr != self.sr:  # 音频采样\n",
    "            audio = lb.resample(audio, orig_sr, self.sr, res_type=self.res_type)\n",
    "          \n",
    "        audios = []\n",
    "        for i in range(self.audio_length, len(audio) + self.step, self.step):  # 音频分帧\n",
    "            start = max(0, i - self.audio_length)\n",
    "            end = start + self.audio_length\n",
    "            audios.append(audio[start:end])\n",
    "            \n",
    "        if len(audios[-1]) < self.audio_length:\n",
    "            audios = audios[:-1]\n",
    "            \n",
    "        images = [self.audio_to_image(audio) for audio in audios]  # 音频转成图像\n",
    "        images = np.stack(images)\n",
    "        \n",
    "        return images\n",
    "    \n",
    "        \n",
    "    def __getitem__(self, idx):\n",
    "        return self.read_file(self.data.loc[idx, \"path\"])"
   ]
  },
  {
   "cell_type": "code",
   "execution_count": 11,
   "id": "aa7a4f9f",
   "metadata": {
    "execution": {
     "iopub.execute_input": "2023-05-12T12:12:22.846246Z",
     "iopub.status.busy": "2023-05-12T12:12:22.845683Z",
     "iopub.status.idle": "2023-05-12T12:12:22.853198Z",
     "shell.execute_reply": "2023-05-12T12:12:22.851706Z"
    },
    "papermill": {
     "duration": 0.024346,
     "end_time": "2023-05-12T12:12:22.856446",
     "exception": false,
     "start_time": "2023-05-12T12:12:22.832100",
     "status": "completed"
    },
    "tags": []
   },
   "outputs": [],
   "source": [
    "ds_test = BirdDataset(\n",
    "    df_test, \n",
    "    sr = Config.SR,\n",
    "    duration = Config.DURATION,\n",
    ")\n",
    "\n"
   ]
  },
  {
   "cell_type": "code",
   "execution_count": 12,
   "id": "0218e86d",
   "metadata": {
    "execution": {
     "iopub.execute_input": "2023-05-12T12:12:22.881590Z",
     "iopub.status.busy": "2023-05-12T12:12:22.880648Z",
     "iopub.status.idle": "2023-05-12T12:12:44.855794Z",
     "shell.execute_reply": "2023-05-12T12:12:44.854336Z"
    },
    "papermill": {
     "duration": 21.992452,
     "end_time": "2023-05-12T12:12:44.860186",
     "exception": false,
     "start_time": "2023-05-12T12:12:22.867734",
     "status": "completed"
    },
    "tags": []
   },
   "outputs": [
    {
     "data": {
      "text/plain": [
       "(120, 3, 128, 313)"
      ]
     },
     "execution_count": 12,
     "metadata": {},
     "output_type": "execute_result"
    }
   ],
   "source": [
    "ds_test[0].shape"
   ]
  },
  {
   "cell_type": "code",
   "execution_count": 13,
   "id": "7ff87492",
   "metadata": {
    "execution": {
     "iopub.execute_input": "2023-05-12T12:12:44.901860Z",
     "iopub.status.busy": "2023-05-12T12:12:44.899814Z",
     "iopub.status.idle": "2023-05-12T12:12:44.913454Z",
     "shell.execute_reply": "2023-05-12T12:12:44.912166Z"
    },
    "papermill": {
     "duration": 0.031966,
     "end_time": "2023-05-12T12:12:44.916415",
     "exception": false,
     "start_time": "2023-05-12T12:12:44.884449",
     "status": "completed"
    },
    "tags": []
   },
   "outputs": [],
   "source": [
    "def show_batch(img_ds, num_items, num_rows, num_cols, predict_arr=None):  # 展示图像来检查是否在载入正确\n",
    "    fig = plt.figure(figsize=(12, 6))    \n",
    "    img_index = np.random.randint(0, len(img_ds), num_items)\n",
    "    for index, img_index in enumerate(img_index):  # list first 9 images\n",
    "        img = img_ds[img_index][0]   \n",
    "        \n",
    "        ax = fig.add_subplot(num_rows, num_cols, index + 1, xticks=[], yticks=[])\n",
    "        if isinstance(img, torch.Tensor):\n",
    "            img = img.detach().numpy()\n",
    "        if isinstance(img, np.ndarray):\n",
    "            img = img.transpose(1, 2, 0)\n",
    "            ax.imshow(img)        \n",
    "            \n",
    "        title = f\"Spec\"\n",
    "        ax.set_title(title)  "
   ]
  },
  {
   "cell_type": "code",
   "execution_count": 14,
   "id": "8554e75d",
   "metadata": {
    "execution": {
     "iopub.execute_input": "2023-05-12T12:12:44.942975Z",
     "iopub.status.busy": "2023-05-12T12:12:44.941933Z",
     "iopub.status.idle": "2023-05-12T12:12:55.664248Z",
     "shell.execute_reply": "2023-05-12T12:12:55.663311Z"
    },
    "papermill": {
     "duration": 10.740635,
     "end_time": "2023-05-12T12:12:55.668751",
     "exception": false,
     "start_time": "2023-05-12T12:12:44.928116",
     "status": "completed"
    },
    "tags": []
   },
   "outputs": [
    {
     "data": {
      "image/png": "[encoded data removed]",
      "text/plain": [
       "<Figure size 1200x600 with 2 Axes>"
      ]
     },
     "metadata": {},
     "output_type": "display_data"
    }
   ],
   "source": [
    "show_batch(ds_test, 2, 2, 1)"
   ]
  },
  {
   "cell_type": "code",
   "execution_count": 15,
   "id": "403d8711",
   "metadata": {
    "execution": {
     "iopub.execute_input": "2023-05-12T12:12:55.701104Z",
     "iopub.status.busy": "2023-05-12T12:12:55.700659Z",
     "iopub.status.idle": "2023-05-12T12:12:55.709651Z",
     "shell.execute_reply": "2023-05-12T12:12:55.708587Z"
    },
    "papermill": {
     "duration": 0.028494,
     "end_time": "2023-05-12T12:12:55.712414",
     "exception": false,
     "start_time": "2023-05-12T12:12:55.683920",
     "status": "completed"
    },
    "tags": []
   },
   "outputs": [],
   "source": [
    "from torch.optim.lr_scheduler import CosineAnnealingLR, CosineAnnealingWarmRestarts, ReduceLROnPlateau, OneCycleLR\n",
    "\n",
    "def get_optimizer(lr, params):\n",
    "    model_optimizer = torch.optim.Adam(  # 对需要更新梯度的参数采用adam优化器\n",
    "            filter(lambda p: p.requires_grad, params), \n",
    "            lr=lr,\n",
    "            weight_decay=Config.weight_decay\n",
    "        )\n",
    "    interval = \"epoch\"\n",
    "    \n",
    "    lr_scheduler = CosineAnnealingWarmRestarts(  # 采用余弦退火来更新lr\n",
    "                            model_optimizer, \n",
    "                            T_0=Config.epochs, \n",
    "                            T_mult=1, \n",
    "                            eta_min=1e-6, \n",
    "                            last_epoch=-1\n",
    "                        )\n",
    "\n",
    "    return {\n",
    "        \"optimizer\": model_optimizer, \n",
    "        \"lr_scheduler\": {\n",
    "            \"scheduler\": lr_scheduler,\n",
    "            \"interval\": interval,\n",
    "            \"monitor\": \"val_loss\",\n",
    "            \"frequency\": 1\n",
    "        }\n",
    "    }"
   ]
  },
  {
   "cell_type": "code",
   "execution_count": 16,
   "id": "ce04022e",
   "metadata": {
    "execution": {
     "iopub.execute_input": "2023-05-12T12:12:55.744368Z",
     "iopub.status.busy": "2023-05-12T12:12:55.743881Z",
     "iopub.status.idle": "2023-05-12T12:12:55.756804Z",
     "shell.execute_reply": "2023-05-12T12:12:55.755207Z"
    },
    "papermill": {
     "duration": 0.032563,
     "end_time": "2023-05-12T12:12:55.759979",
     "exception": false,
     "start_time": "2023-05-12T12:12:55.727416",
     "status": "completed"
    },
    "tags": []
   },
   "outputs": [],
   "source": [
    "import sklearn.metrics\n",
    "\n",
    "def padded_cmap(solution, submission, padding_factor=5):  # 指标cmAP的计算\n",
    "    solution = solution#.drop(['row_id'], axis=1, errors='ignore')\n",
    "    submission = submission#.drop(['row_id'], axis=1, errors='ignore')\n",
    "    new_rows = []\n",
    "    for i in range(padding_factor):\n",
    "        new_rows.append([1 for i in range(len(solution.columns))])\n",
    "    new_rows = pd.DataFrame(new_rows)\n",
    "    new_rows.columns = solution.columns\n",
    "    padded_solution = pd.concat([solution, new_rows]).reset_index(drop=True).copy()\n",
    "    padded_submission = pd.concat([submission, new_rows]).reset_index(drop=True).copy()\n",
    "    score = sklearn.metrics.average_precision_score(\n",
    "        padded_solution.values,\n",
    "        padded_submission.values,\n",
    "        average='macro',\n",
    "    )\n",
    "    return score\n",
    "\n",
    "def map_score(solution, submission):\n",
    "    solution = solution#.drop(['row_id'], axis=1, errors='ignore')\n",
    "    submission = submission#.drop(['row_id'], axis=1, errors='ignore')\n",
    "    score = sklearn.metrics.average_precision_score(\n",
    "        solution.values,\n",
    "        submission.values,\n",
    "        average='micro',\n",
    "    )\n",
    "    return score"
   ]
  },
  {
   "cell_type": "code",
   "execution_count": 17,
   "id": "577b14a2",
   "metadata": {
    "execution": {
     "iopub.execute_input": "2023-05-12T12:12:55.792119Z",
     "iopub.status.busy": "2023-05-12T12:12:55.791617Z",
     "iopub.status.idle": "2023-05-12T12:12:55.816777Z",
     "shell.execute_reply": "2023-05-12T12:12:55.815449Z"
    },
    "papermill": {
     "duration": 0.045276,
     "end_time": "2023-05-12T12:12:55.820130",
     "exception": false,
     "start_time": "2023-05-12T12:12:55.774854",
     "status": "completed"
    },
    "tags": []
   },
   "outputs": [],
   "source": [
    "class BirdClefModel(pl.LightningModule):\n",
    "    def __init__(self, model_name=Config.model, num_classes = Config.num_classes, pretrained = Config.pretrained):\n",
    "        super().__init__()\n",
    "        self.num_classes = num_classes\n",
    "\n",
    "        self.backbone = timm.create_model(model_name, pretrained=pretrained)\n",
    "\n",
    "        if 'res' in model_name:\n",
    "            self.in_features = self.backbone.fc.in_features\n",
    "            self.backbone.fc = nn.Linear(self.in_features, num_classes)\n",
    "        elif 'dense' in model_name:\n",
    "            self.in_features = self.backbone.classifier.in_features\n",
    "            self.backbone.classifier = nn.Linear(self.in_features, num_classes)\n",
    "        elif 'efficientnet' in model_name:\n",
    "            self.in_features = self.backbone.classifier.in_features\n",
    "            self.backbone.classifier = nn.Sequential(\n",
    "                nn.Linear(self.in_features, num_classes)\n",
    "            )\n",
    "        \n",
    "        self.loss_function = nn.BCEWithLogitsLoss() \n",
    "\n",
    "    def forward(self,images):\n",
    "        logits = self.backbone(images)\n",
    "        return logits\n",
    "        \n",
    "    def configure_optimizers(self):\n",
    "        return get_optimizer(lr=Config.LR, params=self.parameters())\n",
    "\n",
    "    def training_step(self, batch, batch_idx):\n",
    "        image, target = batch        \n",
    "\n",
    "        y_pred = self(image)\n",
    "        loss = self.loss_function(y_pred,target)\n",
    "\n",
    "        self.log(\"train_loss\", loss, on_step=True, on_epoch=True, prog_bar=True)\n",
    "        return loss        \n",
    "\n",
    "    def validation_step(self, batch, batch_idx):\n",
    "        image, target = batch     \n",
    "        y_pred = self(image)\n",
    "        val_loss = self.loss_function(y_pred, target)\n",
    "        self.log(\"val_loss\", val_loss, on_step=True, on_epoch=True, logger=True, prog_bar=True)\n",
    "        \n",
    "        return {\"val_loss\": val_loss, \"logits\": y_pred, \"targets\": target}\n",
    "    \n",
    "    def train_dataloader(self):\n",
    "        return self._train_dataloader \n",
    "    \n",
    "    def validation_dataloader(self):\n",
    "        return self._validation_dataloader\n",
    "    \n",
    "    def validation_epoch_end(self,outputs):\n",
    "        avg_loss = torch.stack([x['val_loss'] for x in outputs]).mean()\n",
    "        output_val = torch.cat([x['logits'] for x in outputs],dim=0).sigmoid().cpu().detach().numpy()\n",
    "        target_val = torch.cat([x['targets'] for x in outputs],dim=0).cpu().detach().numpy()\n",
    "        \n",
    "        # print(output_val.shape)\n",
    "        val_df = pd.DataFrame(target_val, columns = birds)\n",
    "        pred_df = pd.DataFrame(output_val, columns = birds)\n",
    "        \n",
    "        avg_score = padded_cmap(val_df, pred_df, padding_factor = 5)\n",
    "        avg_score2 = padded_cmap(val_df, pred_df, padding_factor = 3)\n",
    "        avg_score3 = sklearn.metrics.label_ranking_average_precision_score(target_val,output_val)\n",
    "        \n",
    "#         competition_metrics(output_val,target_val)\n",
    "        print(f'epoch {self.current_epoch} validation loss {avg_loss}')\n",
    "        print(f'epoch {self.current_epoch} validation C-MAP score pad 5 {avg_score}')\n",
    "        print(f'epoch {self.current_epoch} validation C-MAP score pad 3 {avg_score2}')\n",
    "        print(f'epoch {self.current_epoch} validation AP score {avg_score3}')\n",
    "        \n",
    "        \n",
    "        val_df.to_pickle('val_df.pkl')\n",
    "        pred_df.to_pickle('pred_df.pkl')\n",
    "        \n",
    "        \n",
    "        return {'val_loss': avg_loss,'val_cmap':avg_score}\n",
    "    \n",
    "    \n",
    "    \n",
    "    "
   ]
  },
  {
   "cell_type": "code",
   "execution_count": 18,
   "id": "c2cc8c4b",
   "metadata": {
    "execution": {
     "iopub.execute_input": "2023-05-12T12:12:55.851700Z",
     "iopub.status.busy": "2023-05-12T12:12:55.850899Z",
     "iopub.status.idle": "2023-05-12T12:12:55.859646Z",
     "shell.execute_reply": "2023-05-12T12:12:55.858633Z"
    },
    "papermill": {
     "duration": 0.027843,
     "end_time": "2023-05-12T12:12:55.862299",
     "exception": false,
     "start_time": "2023-05-12T12:12:55.834456",
     "status": "completed"
    },
    "tags": []
   },
   "outputs": [],
   "source": [
    "def predict(data_loader, model):  # 对测试集产生预测\n",
    "        \n",
    "    model.to('cpu')\n",
    "    model.eval()    \n",
    "    predictions = []\n",
    "    for en in range(len(ds_test)):\n",
    "        print(en)\n",
    "        images = torch.from_numpy(ds_test[en])\n",
    "        print(images.shape)\n",
    "        with torch.no_grad():\n",
    "            outputs = model(images).sigmoid().detach().cpu().numpy() / 10\n",
    "            print(outputs.shape)\n",
    "#             pred_batch.extend(outputs.detach().cpu().numpy())\n",
    "#         pred_batch = np.vstack(pred_batch)\n",
    "        predictions.append(outputs)\n",
    "            \n",
    "    \n",
    "    return predictions"
   ]
  },
  {
   "cell_type": "code",
   "execution_count": null,
   "id": "9ceb711c",
   "metadata": {
    "papermill": {
     "duration": 0.014035,
     "end_time": "2023-05-12T12:12:55.890806",
     "exception": false,
     "start_time": "2023-05-12T12:12:55.876771",
     "status": "completed"
    },
    "tags": []
   },
   "outputs": [],
   "source": []
  },
  {
   "cell_type": "code",
   "execution_count": 19,
   "id": "74a95f59",
   "metadata": {
    "execution": {
     "iopub.execute_input": "2023-05-12T12:12:55.921691Z",
     "iopub.status.busy": "2023-05-12T12:12:55.920948Z",
     "iopub.status.idle": "2023-05-12T12:12:55.925975Z",
     "shell.execute_reply": "2023-05-12T12:12:55.924967Z"
    },
    "papermill": {
     "duration": 0.023635,
     "end_time": "2023-05-12T12:12:55.928513",
     "exception": false,
     "start_time": "2023-05-12T12:12:55.904878",
     "status": "completed"
    },
    "tags": []
   },
   "outputs": [],
   "source": [
    "# import pickle\n",
    "# raw_data = open(Config.model_ckpt, 'rb')\n",
    "# data = pickle.load(raw_data)\n",
    "# print(data.keys())"
   ]
  },
  {
   "cell_type": "code",
   "execution_count": 20,
   "id": "11f2b057",
   "metadata": {
    "execution": {
     "iopub.execute_input": "2023-05-12T12:12:55.958928Z",
     "iopub.status.busy": "2023-05-12T12:12:55.958252Z",
     "iopub.status.idle": "2023-05-12T12:13:15.376200Z",
     "shell.execute_reply": "2023-05-12T12:13:15.374165Z"
    },
    "papermill": {
     "duration": 19.437044,
     "end_time": "2023-05-12T12:13:15.379535",
     "exception": false,
     "start_time": "2023-05-12T12:12:55.942491",
     "status": "completed"
    },
    "tags": []
   },
   "outputs": [
    {
     "name": "stdout",
     "output_type": "stream",
     "text": [
      "Create Dataloader...\n",
      "Model Creation\n",
      "Running Inference..\n",
      "0\n",
      "torch.Size([120, 3, 128, 313])\n",
      "(120, 264)\n"
     ]
    }
   ],
   "source": [
    "import gc\n",
    "\n",
    "print(f\"Create Dataloader...\")\n",
    "\n",
    "ds_test = BirdDataset(\n",
    "    df_test, \n",
    "    sr = Config.SR,\n",
    "    duration = Config.DURATION,\n",
    ")\n",
    "\n",
    "\n",
    "audio_model = BirdClefModel()\n",
    "\n",
    "print(\"Model Creation\")\n",
    "\n",
    "model = BirdClefModel.load_from_checkpoint(Config.model_ckpt, train_dataloader=None,validation_dataloader=None, strict=False) \n",
    "print(\"Running Inference..\")\n",
    "\n",
    "preds = predict(ds_test, model)  # 直接进行推理\n",
    "\n",
    "gc.collect()\n",
    "torch.cuda.empty_cache()\n"
   ]
  },
  {
   "cell_type": "code",
   "execution_count": 21,
   "id": "00217868",
   "metadata": {
    "execution": {
     "iopub.execute_input": "2023-05-12T12:13:15.413329Z",
     "iopub.status.busy": "2023-05-12T12:13:15.412808Z",
     "iopub.status.idle": "2023-05-12T12:13:15.440784Z",
     "shell.execute_reply": "2023-05-12T12:13:15.439342Z"
    },
    "papermill": {
     "duration": 0.048724,
     "end_time": "2023-05-12T12:13:15.443925",
     "exception": false,
     "start_time": "2023-05-12T12:13:15.395201",
     "status": "completed"
    },
    "tags": []
   },
   "outputs": [],
   "source": [
    "filenames = df_test.filename.values.tolist()\n",
    "\n",
    "bird_cols = list(pd.get_dummies(df_train['primary_label']).columns)\n",
    "sub_df = pd.DataFrame(columns=['row_id']+bird_cols)"
   ]
  },
  {
   "cell_type": "code",
   "execution_count": 22,
   "id": "10421fe2",
   "metadata": {
    "execution": {
     "iopub.execute_input": "2023-05-12T12:13:15.477135Z",
     "iopub.status.busy": "2023-05-12T12:13:15.475359Z",
     "iopub.status.idle": "2023-05-12T12:13:15.494278Z",
     "shell.execute_reply": "2023-05-12T12:13:15.492851Z"
    },
    "papermill": {
     "duration": 0.038824,
     "end_time": "2023-05-12T12:13:15.497635",
     "exception": false,
     "start_time": "2023-05-12T12:13:15.458811",
     "status": "completed"
    },
    "tags": []
   },
   "outputs": [
    {
     "data": {
      "text/html": [
       "<div>\n",
       "<style scoped>\n",
       "    .dataframe tbody tr th:only-of-type {\n",
       "        vertical-align: middle;\n",
       "    }\n",
       "\n",
       "    .dataframe tbody tr th {\n",
       "        vertical-align: top;\n",
       "    }\n",
       "\n",
       "    .dataframe thead th {\n",
       "        text-align: right;\n",
       "    }\n",
       "</style>\n",
       "<table border=\"1\" class=\"dataframe\">\n",
       "  <thead>\n",
       "    <tr style=\"text-align: right;\">\n",
       "      <th></th>\n",
       "      <th>row_id</th>\n",
       "      <th>abethr1</th>\n",
       "      <th>abhori1</th>\n",
       "      <th>abythr1</th>\n",
       "      <th>afbfly1</th>\n",
       "      <th>afdfly1</th>\n",
       "      <th>afecuc1</th>\n",
       "      <th>affeag1</th>\n",
       "      <th>afgfly1</th>\n",
       "      <th>afghor1</th>\n",
       "      <th>...</th>\n",
       "      <th>yebsto1</th>\n",
       "      <th>yeccan1</th>\n",
       "      <th>yefcan</th>\n",
       "      <th>yelbis1</th>\n",
       "      <th>yenspu1</th>\n",
       "      <th>yertin1</th>\n",
       "      <th>yesbar1</th>\n",
       "      <th>yespet1</th>\n",
       "      <th>yetgre1</th>\n",
       "      <th>yewgre1</th>\n",
       "    </tr>\n",
       "  </thead>\n",
       "  <tbody>\n",
       "  </tbody>\n",
       "</table>\n",
       "<p>0 rows × 265 columns</p>\n",
       "</div>"
      ],
      "text/plain": [
       "Empty DataFrame\n",
       "Columns: [row_id, abethr1, abhori1, abythr1, afbfly1, afdfly1, afecuc1, affeag1, afgfly1, afghor1, afmdov1, afpfly1, afpkin1, afpwag1, afrgos1, afrgrp1, afrjac1, afrthr1, amesun2, augbuz1, bagwea1, barswa, bawhor2, bawman1, bcbeat1, beasun2, bkctch1, bkfruw1, blacra1, blacuc1, blakit1, blaplo1, blbpuf2, blcapa2, blfbus1, blhgon1, blhher1, blksaw1, blnmou1, blnwea1, bltapa1, bltbar1, bltori1, blwlap1, brcale1, brcsta1, brctch1, brcwea1, brican1, brobab1, broman1, brosun1, brrwhe3, brtcha1, brubru1, brwwar1, bswdov1, btweye2, bubwar2, butapa1, cabgre1, carcha1, carwoo1, categr, ccbeat1, chespa1, chewea1, chibat1, chtapa3, chucis1, cibwar1, cohmar1, colsun2, combul2, combuz1, comsan, crefra2, crheag1, crohor1, darbar1, darter3, didcuc1, dotbar1, dutdov1, easmog1, eaywag1, edcsun3, egygoo, equaka1, eswdov1, eubeat1, fatrav1, fatwid1, fislov1, fotdro5, gabgos2, gargan, gbesta1, gnbcam2, gnhsun1, ...]\n",
       "Index: []\n",
       "\n",
       "[0 rows x 265 columns]"
      ]
     },
     "execution_count": 22,
     "metadata": {},
     "output_type": "execute_result"
    }
   ],
   "source": [
    "sub_df"
   ]
  },
  {
   "attachments": {},
   "cell_type": "markdown",
   "id": "24b350ef",
   "metadata": {
    "papermill": {
     "duration": 0.014873,
     "end_time": "2023-05-12T12:13:15.527718",
     "exception": false,
     "start_time": "2023-05-12T12:13:15.512845",
     "status": "completed"
    },
    "tags": []
   },
   "source": [
    "# Generate Submission csv"
   ]
  },
  {
   "cell_type": "code",
   "execution_count": 23,
   "id": "e6bdccf0",
   "metadata": {
    "execution": {
     "iopub.execute_input": "2023-05-12T12:13:15.561183Z",
     "iopub.status.busy": "2023-05-12T12:13:15.560645Z",
     "iopub.status.idle": "2023-05-12T12:13:15.696911Z",
     "shell.execute_reply": "2023-05-12T12:13:15.695364Z"
    },
    "papermill": {
     "duration": 0.157608,
     "end_time": "2023-05-12T12:13:15.700555",
     "exception": false,
     "start_time": "2023-05-12T12:13:15.542947",
     "status": "completed"
    },
    "tags": []
   },
   "outputs": [],
   "source": [
    "for i, file in enumerate(filenames):  # 生成提交csv\n",
    "    pred = preds[i] \n",
    "    num_rows = len(pred)\n",
    "    row_ids = [f'{file}_{(i+1)*5}' for i in range(num_rows)]\n",
    "    df = pd.DataFrame(columns=['row_id']+bird_cols)\n",
    "    \n",
    "    df['row_id'] = row_ids\n",
    "    df[bird_cols] = pred\n",
    "    \n",
    "    sub_df = pd.concat([sub_df,df]).reset_index(drop=True)\n",
    "    "
   ]
  },
  {
   "cell_type": "code",
   "execution_count": 24,
   "id": "c1ac0a16",
   "metadata": {
    "execution": {
     "iopub.execute_input": "2023-05-12T12:13:15.734304Z",
     "iopub.status.busy": "2023-05-12T12:13:15.733742Z",
     "iopub.status.idle": "2023-05-12T12:13:15.777290Z",
     "shell.execute_reply": "2023-05-12T12:13:15.775827Z"
    },
    "papermill": {
     "duration": 0.063977,
     "end_time": "2023-05-12T12:13:15.780266",
     "exception": false,
     "start_time": "2023-05-12T12:13:15.716289",
     "status": "completed"
    },
    "tags": []
   },
   "outputs": [
    {
     "data": {
      "text/html": [
       "<div>\n",
       "<style scoped>\n",
       "    .dataframe tbody tr th:only-of-type {\n",
       "        vertical-align: middle;\n",
       "    }\n",
       "\n",
       "    .dataframe tbody tr th {\n",
       "        vertical-align: top;\n",
       "    }\n",
       "\n",
       "    .dataframe thead th {\n",
       "        text-align: right;\n",
       "    }\n",
       "</style>\n",
       "<table border=\"1\" class=\"dataframe\">\n",
       "  <thead>\n",
       "    <tr style=\"text-align: right;\">\n",
       "      <th></th>\n",
       "      <th>row_id</th>\n",
       "      <th>abethr1</th>\n",
       "      <th>abhori1</th>\n",
       "      <th>abythr1</th>\n",
       "      <th>afbfly1</th>\n",
       "      <th>afdfly1</th>\n",
       "      <th>afecuc1</th>\n",
       "      <th>affeag1</th>\n",
       "      <th>afgfly1</th>\n",
       "      <th>afghor1</th>\n",
       "      <th>...</th>\n",
       "      <th>yebsto1</th>\n",
       "      <th>yeccan1</th>\n",
       "      <th>yefcan</th>\n",
       "      <th>yelbis1</th>\n",
       "      <th>yenspu1</th>\n",
       "      <th>yertin1</th>\n",
       "      <th>yesbar1</th>\n",
       "      <th>yespet1</th>\n",
       "      <th>yetgre1</th>\n",
       "      <th>yewgre1</th>\n",
       "    </tr>\n",
       "  </thead>\n",
       "  <tbody>\n",
       "    <tr>\n",
       "      <th>0</th>\n",
       "      <td>soundscape_29201_5</td>\n",
       "      <td>0.030490</td>\n",
       "      <td>0.033229</td>\n",
       "      <td>0.059804</td>\n",
       "      <td>0.002762</td>\n",
       "      <td>0.010509</td>\n",
       "      <td>0.027278</td>\n",
       "      <td>0.020175</td>\n",
       "      <td>0.014711</td>\n",
       "      <td>0.063576</td>\n",
       "      <td>...</td>\n",
       "      <td>0.006567</td>\n",
       "      <td>0.001610</td>\n",
       "      <td>0.008345</td>\n",
       "      <td>0.003915</td>\n",
       "      <td>0.005110</td>\n",
       "      <td>0.022659</td>\n",
       "      <td>0.012035</td>\n",
       "      <td>0.005087</td>\n",
       "      <td>0.004334</td>\n",
       "      <td>0.027794</td>\n",
       "    </tr>\n",
       "    <tr>\n",
       "      <th>1</th>\n",
       "      <td>soundscape_29201_10</td>\n",
       "      <td>0.042934</td>\n",
       "      <td>0.082372</td>\n",
       "      <td>0.010497</td>\n",
       "      <td>0.028489</td>\n",
       "      <td>0.016535</td>\n",
       "      <td>0.012001</td>\n",
       "      <td>0.012454</td>\n",
       "      <td>0.007244</td>\n",
       "      <td>0.002166</td>\n",
       "      <td>...</td>\n",
       "      <td>0.001995</td>\n",
       "      <td>0.001899</td>\n",
       "      <td>0.062509</td>\n",
       "      <td>0.006304</td>\n",
       "      <td>0.004285</td>\n",
       "      <td>0.016614</td>\n",
       "      <td>0.001907</td>\n",
       "      <td>0.002533</td>\n",
       "      <td>0.000608</td>\n",
       "      <td>0.003157</td>\n",
       "    </tr>\n",
       "    <tr>\n",
       "      <th>2</th>\n",
       "      <td>soundscape_29201_15</td>\n",
       "      <td>0.071034</td>\n",
       "      <td>0.086588</td>\n",
       "      <td>0.036202</td>\n",
       "      <td>0.001823</td>\n",
       "      <td>0.001130</td>\n",
       "      <td>0.064040</td>\n",
       "      <td>0.000889</td>\n",
       "      <td>0.000804</td>\n",
       "      <td>0.002170</td>\n",
       "      <td>...</td>\n",
       "      <td>0.001065</td>\n",
       "      <td>0.001012</td>\n",
       "      <td>0.051398</td>\n",
       "      <td>0.005267</td>\n",
       "      <td>0.002435</td>\n",
       "      <td>0.003192</td>\n",
       "      <td>0.000274</td>\n",
       "      <td>0.008678</td>\n",
       "      <td>0.002611</td>\n",
       "      <td>0.006419</td>\n",
       "    </tr>\n",
       "    <tr>\n",
       "      <th>3</th>\n",
       "      <td>soundscape_29201_20</td>\n",
       "      <td>0.005382</td>\n",
       "      <td>0.036507</td>\n",
       "      <td>0.011471</td>\n",
       "      <td>0.017000</td>\n",
       "      <td>0.027739</td>\n",
       "      <td>0.018746</td>\n",
       "      <td>0.013852</td>\n",
       "      <td>0.005758</td>\n",
       "      <td>0.006596</td>\n",
       "      <td>...</td>\n",
       "      <td>0.010016</td>\n",
       "      <td>0.029099</td>\n",
       "      <td>0.040412</td>\n",
       "      <td>0.050717</td>\n",
       "      <td>0.020279</td>\n",
       "      <td>0.025011</td>\n",
       "      <td>0.002257</td>\n",
       "      <td>0.006110</td>\n",
       "      <td>0.005520</td>\n",
       "      <td>0.005308</td>\n",
       "    </tr>\n",
       "    <tr>\n",
       "      <th>4</th>\n",
       "      <td>soundscape_29201_25</td>\n",
       "      <td>0.017004</td>\n",
       "      <td>0.059552</td>\n",
       "      <td>0.034368</td>\n",
       "      <td>0.021735</td>\n",
       "      <td>0.046454</td>\n",
       "      <td>0.060372</td>\n",
       "      <td>0.029676</td>\n",
       "      <td>0.028365</td>\n",
       "      <td>0.016750</td>\n",
       "      <td>...</td>\n",
       "      <td>0.034540</td>\n",
       "      <td>0.040234</td>\n",
       "      <td>0.033768</td>\n",
       "      <td>0.052319</td>\n",
       "      <td>0.033181</td>\n",
       "      <td>0.030464</td>\n",
       "      <td>0.017710</td>\n",
       "      <td>0.027007</td>\n",
       "      <td>0.032184</td>\n",
       "      <td>0.017763</td>\n",
       "    </tr>\n",
       "    <tr>\n",
       "      <th>...</th>\n",
       "      <td>...</td>\n",
       "      <td>...</td>\n",
       "      <td>...</td>\n",
       "      <td>...</td>\n",
       "      <td>...</td>\n",
       "      <td>...</td>\n",
       "      <td>...</td>\n",
       "      <td>...</td>\n",
       "      <td>...</td>\n",
       "      <td>...</td>\n",
       "      <td>...</td>\n",
       "      <td>...</td>\n",
       "      <td>...</td>\n",
       "      <td>...</td>\n",
       "      <td>...</td>\n",
       "      <td>...</td>\n",
       "      <td>...</td>\n",
       "      <td>...</td>\n",
       "      <td>...</td>\n",
       "      <td>...</td>\n",
       "      <td>...</td>\n",
       "    </tr>\n",
       "    <tr>\n",
       "      <th>115</th>\n",
       "      <td>soundscape_29201_580</td>\n",
       "      <td>0.018379</td>\n",
       "      <td>0.065572</td>\n",
       "      <td>0.010319</td>\n",
       "      <td>0.026640</td>\n",
       "      <td>0.026684</td>\n",
       "      <td>0.055761</td>\n",
       "      <td>0.022567</td>\n",
       "      <td>0.005804</td>\n",
       "      <td>0.018192</td>\n",
       "      <td>...</td>\n",
       "      <td>0.010467</td>\n",
       "      <td>0.072343</td>\n",
       "      <td>0.039415</td>\n",
       "      <td>0.008707</td>\n",
       "      <td>0.013656</td>\n",
       "      <td>0.035775</td>\n",
       "      <td>0.006737</td>\n",
       "      <td>0.011586</td>\n",
       "      <td>0.004600</td>\n",
       "      <td>0.003865</td>\n",
       "    </tr>\n",
       "    <tr>\n",
       "      <th>116</th>\n",
       "      <td>soundscape_29201_585</td>\n",
       "      <td>0.047173</td>\n",
       "      <td>0.055987</td>\n",
       "      <td>0.016125</td>\n",
       "      <td>0.012778</td>\n",
       "      <td>0.019344</td>\n",
       "      <td>0.063976</td>\n",
       "      <td>0.093507</td>\n",
       "      <td>0.008756</td>\n",
       "      <td>0.024312</td>\n",
       "      <td>...</td>\n",
       "      <td>0.009835</td>\n",
       "      <td>0.003901</td>\n",
       "      <td>0.025081</td>\n",
       "      <td>0.004959</td>\n",
       "      <td>0.015429</td>\n",
       "      <td>0.084728</td>\n",
       "      <td>0.069612</td>\n",
       "      <td>0.003454</td>\n",
       "      <td>0.007460</td>\n",
       "      <td>0.022430</td>\n",
       "    </tr>\n",
       "    <tr>\n",
       "      <th>117</th>\n",
       "      <td>soundscape_29201_590</td>\n",
       "      <td>0.020171</td>\n",
       "      <td>0.053138</td>\n",
       "      <td>0.008503</td>\n",
       "      <td>0.036696</td>\n",
       "      <td>0.023431</td>\n",
       "      <td>0.019131</td>\n",
       "      <td>0.056631</td>\n",
       "      <td>0.011106</td>\n",
       "      <td>0.023069</td>\n",
       "      <td>...</td>\n",
       "      <td>0.007664</td>\n",
       "      <td>0.010908</td>\n",
       "      <td>0.038610</td>\n",
       "      <td>0.015442</td>\n",
       "      <td>0.015235</td>\n",
       "      <td>0.039181</td>\n",
       "      <td>0.021495</td>\n",
       "      <td>0.007913</td>\n",
       "      <td>0.005640</td>\n",
       "      <td>0.002867</td>\n",
       "    </tr>\n",
       "    <tr>\n",
       "      <th>118</th>\n",
       "      <td>soundscape_29201_595</td>\n",
       "      <td>0.009119</td>\n",
       "      <td>0.069888</td>\n",
       "      <td>0.009638</td>\n",
       "      <td>0.030652</td>\n",
       "      <td>0.022663</td>\n",
       "      <td>0.062189</td>\n",
       "      <td>0.025694</td>\n",
       "      <td>0.008345</td>\n",
       "      <td>0.024814</td>\n",
       "      <td>...</td>\n",
       "      <td>0.009927</td>\n",
       "      <td>0.055780</td>\n",
       "      <td>0.065415</td>\n",
       "      <td>0.023234</td>\n",
       "      <td>0.006384</td>\n",
       "      <td>0.044880</td>\n",
       "      <td>0.015709</td>\n",
       "      <td>0.007384</td>\n",
       "      <td>0.005202</td>\n",
       "      <td>0.004975</td>\n",
       "    </tr>\n",
       "    <tr>\n",
       "      <th>119</th>\n",
       "      <td>soundscape_29201_600</td>\n",
       "      <td>0.012933</td>\n",
       "      <td>0.073627</td>\n",
       "      <td>0.007660</td>\n",
       "      <td>0.016474</td>\n",
       "      <td>0.016286</td>\n",
       "      <td>0.056653</td>\n",
       "      <td>0.055000</td>\n",
       "      <td>0.004880</td>\n",
       "      <td>0.022566</td>\n",
       "      <td>...</td>\n",
       "      <td>0.004974</td>\n",
       "      <td>0.010996</td>\n",
       "      <td>0.030785</td>\n",
       "      <td>0.003228</td>\n",
       "      <td>0.004458</td>\n",
       "      <td>0.037045</td>\n",
       "      <td>0.017813</td>\n",
       "      <td>0.002404</td>\n",
       "      <td>0.005953</td>\n",
       "      <td>0.006930</td>\n",
       "    </tr>\n",
       "  </tbody>\n",
       "</table>\n",
       "<p>120 rows × 265 columns</p>\n",
       "</div>"
      ],
      "text/plain": [
       "                   row_id   abethr1   abhori1   abythr1   afbfly1   afdfly1  \\\n",
       "0      soundscape_29201_5  0.030490  0.033229  0.059804  0.002762  0.010509   \n",
       "1     soundscape_29201_10  0.042934  0.082372  0.010497  0.028489  0.016535   \n",
       "2     soundscape_29201_15  0.071034  0.086588  0.036202  0.001823  0.001130   \n",
       "3     soundscape_29201_20  0.005382  0.036507  0.011471  0.017000  0.027739   \n",
       "4     soundscape_29201_25  0.017004  0.059552  0.034368  0.021735  0.046454   \n",
       "..                    ...       ...       ...       ...       ...       ...   \n",
       "115  soundscape_29201_580  0.018379  0.065572  0.010319  0.026640  0.026684   \n",
       "116  soundscape_29201_585  0.047173  0.055987  0.016125  0.012778  0.019344   \n",
       "117  soundscape_29201_590  0.020171  0.053138  0.008503  0.036696  0.023431   \n",
       "118  soundscape_29201_595  0.009119  0.069888  0.009638  0.030652  0.022663   \n",
       "119  soundscape_29201_600  0.012933  0.073627  0.007660  0.016474  0.016286   \n",
       "\n",
       "      afecuc1   affeag1   afgfly1   afghor1  ...   yebsto1   yeccan1  \\\n",
       "0    0.027278  0.020175  0.014711  0.063576  ...  0.006567  0.001610   \n",
       "1    0.012001  0.012454  0.007244  0.002166  ...  0.001995  0.001899   \n",
       "2    0.064040  0.000889  0.000804  0.002170  ...  0.001065  0.001012   \n",
       "3    0.018746  0.013852  0.005758  0.006596  ...  0.010016  0.029099   \n",
       "4    0.060372  0.029676  0.028365  0.016750  ...  0.034540  0.040234   \n",
       "..        ...       ...       ...       ...  ...       ...       ...   \n",
       "115  0.055761  0.022567  0.005804  0.018192  ...  0.010467  0.072343   \n",
       "116  0.063976  0.093507  0.008756  0.024312  ...  0.009835  0.003901   \n",
       "117  0.019131  0.056631  0.011106  0.023069  ...  0.007664  0.010908   \n",
       "118  0.062189  0.025694  0.008345  0.024814  ...  0.009927  0.055780   \n",
       "119  0.056653  0.055000  0.004880  0.022566  ...  0.004974  0.010996   \n",
       "\n",
       "       yefcan   yelbis1   yenspu1   yertin1   yesbar1   yespet1   yetgre1  \\\n",
       "0    0.008345  0.003915  0.005110  0.022659  0.012035  0.005087  0.004334   \n",
       "1    0.062509  0.006304  0.004285  0.016614  0.001907  0.002533  0.000608   \n",
       "2    0.051398  0.005267  0.002435  0.003192  0.000274  0.008678  0.002611   \n",
       "3    0.040412  0.050717  0.020279  0.025011  0.002257  0.006110  0.005520   \n",
       "4    0.033768  0.052319  0.033181  0.030464  0.017710  0.027007  0.032184   \n",
       "..        ...       ...       ...       ...       ...       ...       ...   \n",
       "115  0.039415  0.008707  0.013656  0.035775  0.006737  0.011586  0.004600   \n",
       "116  0.025081  0.004959  0.015429  0.084728  0.069612  0.003454  0.007460   \n",
       "117  0.038610  0.015442  0.015235  0.039181  0.021495  0.007913  0.005640   \n",
       "118  0.065415  0.023234  0.006384  0.044880  0.015709  0.007384  0.005202   \n",
       "119  0.030785  0.003228  0.004458  0.037045  0.017813  0.002404  0.005953   \n",
       "\n",
       "      yewgre1  \n",
       "0    0.027794  \n",
       "1    0.003157  \n",
       "2    0.006419  \n",
       "3    0.005308  \n",
       "4    0.017763  \n",
       "..        ...  \n",
       "115  0.003865  \n",
       "116  0.022430  \n",
       "117  0.002867  \n",
       "118  0.004975  \n",
       "119  0.006930  \n",
       "\n",
       "[120 rows x 265 columns]"
      ]
     },
     "execution_count": 24,
     "metadata": {},
     "output_type": "execute_result"
    }
   ],
   "source": [
    "sub_df"
   ]
  },
  {
   "cell_type": "code",
   "execution_count": 25,
   "id": "c973d0ed",
   "metadata": {
    "execution": {
     "iopub.execute_input": "2023-05-12T12:13:15.815577Z",
     "iopub.status.busy": "2023-05-12T12:13:15.814987Z",
     "iopub.status.idle": "2023-05-12T12:13:15.880130Z",
     "shell.execute_reply": "2023-05-12T12:13:15.878573Z"
    },
    "papermill": {
     "duration": 0.087102,
     "end_time": "2023-05-12T12:13:15.883346",
     "exception": false,
     "start_time": "2023-05-12T12:13:15.796244",
     "status": "completed"
    },
    "tags": []
   },
   "outputs": [],
   "source": [
    "sub_df.to_csv('submission.csv',index=False)"
   ]
  },
  {
   "cell_type": "code",
   "execution_count": null,
   "id": "920fdfef",
   "metadata": {
    "papermill": {
     "duration": 0.01532,
     "end_time": "2023-05-12T12:13:15.914979",
     "exception": false,
     "start_time": "2023-05-12T12:13:15.899659",
     "status": "completed"
    },
    "tags": []
   },
   "outputs": [],
   "source": []
  }
 ],
 "metadata": {
  "kernelspec": {
   "display_name": "Python 3",
   "language": "python",
   "name": "python3"
  },
  "language_info": {
   "codemirror_mode": {
    "name": "ipython",
    "version": 3
   },
   "file_extension": ".py",
   "mimetype": "text/x-python",
   "name": "python",
   "nbconvert_exporter": "python",
   "pygments_lexer": "ipython3",
   "version": "3.7.12"
  },
  "papermill": {
   "default_parameters": {},
   "duration": 90.615759,
   "end_time": "2023-05-12T12:13:19.230560",
   "environment_variables": {},
   "exception": null,
   "input_path": "__notebook__.ipynb",
   "output_path": "__notebook__.ipynb",
   "parameters": {},
   "start_time": "2023-05-12T12:11:48.614801",
   "version": "2.4.0"
  }
 },
 "nbformat": 4,
 "nbformat_minor": 5
}
